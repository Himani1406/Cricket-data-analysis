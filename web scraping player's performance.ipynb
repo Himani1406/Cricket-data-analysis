{
 "cells": [
  {
   "cell_type": "code",
   "execution_count": 2,
   "id": "b848c473",
   "metadata": {},
   "outputs": [],
   "source": [
    "import pandas as pd\n",
    "import numpy as np\n",
    "import matplotlib.pyplot as plt\n",
    "import requests\n",
    "from bs4 import BeautifulSoup"
   ]
  },
  {
   "cell_type": "markdown",
   "id": "3f1ef1d0",
   "metadata": {},
   "source": [
    "### defining the format of cricket we need the statistics for"
   ]
  },
  {
   "cell_type": "code",
   "execution_count": 4,
   "id": "e8fa6c6e",
   "metadata": {},
   "outputs": [],
   "source": [
    "format =1 \n",
    "\n",
    "format_name = \"\"\n",
    "if format ==1:\n",
    "    format_name = \"Tests\"\n",
    "elif format ==2:\n",
    "    format_name =\"ODIs\"\n",
    "else:\n",
    "    format_name = \"T20s\""
   ]
  },
  {
   "cell_type": "markdown",
   "id": "149fecc1",
   "metadata": {},
   "source": [
    "### specifying a player's name, then the ESPN webpage is quered using the requests library"
   ]
  },
  {
   "cell_type": "code",
   "execution_count": 8,
   "id": "4e834905",
   "metadata": {},
   "outputs": [],
   "source": [
    "player = 'Virat Kohli'\n",
    "url = \"https://search.espncricinfo.com/ci/content/player/search.html?search=\" + player.lower().replace(\" \",\"+\") + \"&x=0&y=0\"\n",
    "page = requests.get(url)"
   ]
  },
  {
   "cell_type": "markdown",
   "id": "da878d92",
   "metadata": {},
   "source": [
    "inside this page we get access to the url that leads to a player's home page.\n",
    "Here, we will use the BeautifulSoap library to find the hyperlink that contains the player's ID.\n",
    "Once we get the ID, we can query a player's stats using the requests library. \n",
    "Using pandas to find all the tables and choose the right one that has all the stats.\n"
   ]
  },
  {
   "cell_type": "code",
   "execution_count": 11,
   "id": "082ca654",
   "metadata": {},
   "outputs": [],
   "source": [
    "soup = BeautifulSoup(page.content, \"html.parser\")\n",
    "player_id = str(soup.find_all(class_= 'ColumnistSmry')[0]).split('.html')[0].split('/')[-1]\n",
    "df = pd.read_html(f'https://stats.espncricinfo.com/ci/engine/player/{player_id}.html?class={format};template=results;type=batting;view=innings')[3]"
   ]
  },
  {
   "cell_type": "code",
   "execution_count": 12,
   "id": "2b42a1f8",
   "metadata": {},
   "outputs": [
    {
     "data": {
      "text/html": [
       "<div>\n",
       "<style scoped>\n",
       "    .dataframe tbody tr th:only-of-type {\n",
       "        vertical-align: middle;\n",
       "    }\n",
       "\n",
       "    .dataframe tbody tr th {\n",
       "        vertical-align: top;\n",
       "    }\n",
       "\n",
       "    .dataframe thead th {\n",
       "        text-align: right;\n",
       "    }\n",
       "</style>\n",
       "<table border=\"1\" class=\"dataframe\">\n",
       "  <thead>\n",
       "    <tr style=\"text-align: right;\">\n",
       "      <th></th>\n",
       "      <th>Runs</th>\n",
       "      <th>Mins</th>\n",
       "      <th>BF</th>\n",
       "      <th>4s</th>\n",
       "      <th>6s</th>\n",
       "      <th>SR</th>\n",
       "      <th>Pos</th>\n",
       "      <th>Dismissal</th>\n",
       "      <th>Inns</th>\n",
       "      <th>Unnamed: 9</th>\n",
       "      <th>Opposition</th>\n",
       "      <th>Ground</th>\n",
       "      <th>Start Date</th>\n",
       "      <th>Unnamed: 13</th>\n",
       "    </tr>\n",
       "  </thead>\n",
       "  <tbody>\n",
       "    <tr>\n",
       "      <th>0</th>\n",
       "      <td>4</td>\n",
       "      <td>13</td>\n",
       "      <td>10</td>\n",
       "      <td>1</td>\n",
       "      <td>0</td>\n",
       "      <td>40.00</td>\n",
       "      <td>5</td>\n",
       "      <td>caught</td>\n",
       "      <td>1</td>\n",
       "      <td>NaN</td>\n",
       "      <td>v West Indies</td>\n",
       "      <td>Kingston</td>\n",
       "      <td>20 Jun 2011</td>\n",
       "      <td>Test # 1997</td>\n",
       "    </tr>\n",
       "    <tr>\n",
       "      <th>1</th>\n",
       "      <td>15</td>\n",
       "      <td>72</td>\n",
       "      <td>54</td>\n",
       "      <td>2</td>\n",
       "      <td>0</td>\n",
       "      <td>27.77</td>\n",
       "      <td>5</td>\n",
       "      <td>caught</td>\n",
       "      <td>3</td>\n",
       "      <td>NaN</td>\n",
       "      <td>v West Indies</td>\n",
       "      <td>Kingston</td>\n",
       "      <td>20 Jun 2011</td>\n",
       "      <td>Test # 1997</td>\n",
       "    </tr>\n",
       "    <tr>\n",
       "      <th>2</th>\n",
       "      <td>0</td>\n",
       "      <td>1</td>\n",
       "      <td>2</td>\n",
       "      <td>0</td>\n",
       "      <td>0</td>\n",
       "      <td>0.00</td>\n",
       "      <td>5</td>\n",
       "      <td>caught</td>\n",
       "      <td>1</td>\n",
       "      <td>NaN</td>\n",
       "      <td>v West Indies</td>\n",
       "      <td>Bridgetown</td>\n",
       "      <td>28 Jun 2011</td>\n",
       "      <td>Test # 1998</td>\n",
       "    </tr>\n",
       "    <tr>\n",
       "      <th>3</th>\n",
       "      <td>27</td>\n",
       "      <td>118</td>\n",
       "      <td>107</td>\n",
       "      <td>1</td>\n",
       "      <td>1</td>\n",
       "      <td>25.23</td>\n",
       "      <td>5</td>\n",
       "      <td>caught</td>\n",
       "      <td>3</td>\n",
       "      <td>NaN</td>\n",
       "      <td>v West Indies</td>\n",
       "      <td>Bridgetown</td>\n",
       "      <td>28 Jun 2011</td>\n",
       "      <td>Test # 1998</td>\n",
       "    </tr>\n",
       "    <tr>\n",
       "      <th>4</th>\n",
       "      <td>30</td>\n",
       "      <td>62</td>\n",
       "      <td>53</td>\n",
       "      <td>2</td>\n",
       "      <td>0</td>\n",
       "      <td>56.60</td>\n",
       "      <td>5</td>\n",
       "      <td>caught</td>\n",
       "      <td>2</td>\n",
       "      <td>NaN</td>\n",
       "      <td>v West Indies</td>\n",
       "      <td>Roseau</td>\n",
       "      <td>6 Jul 2011</td>\n",
       "      <td>Test # 1999</td>\n",
       "    </tr>\n",
       "  </tbody>\n",
       "</table>\n",
       "</div>"
      ],
      "text/plain": [
       "  Runs Mins   BF 4s 6s     SR Pos Dismissal Inns  Unnamed: 9     Opposition  \\\n",
       "0    4   13   10  1  0  40.00   5    caught    1         NaN  v West Indies   \n",
       "1   15   72   54  2  0  27.77   5    caught    3         NaN  v West Indies   \n",
       "2    0    1    2  0  0   0.00   5    caught    1         NaN  v West Indies   \n",
       "3   27  118  107  1  1  25.23   5    caught    3         NaN  v West Indies   \n",
       "4   30   62   53  2  0  56.60   5    caught    2         NaN  v West Indies   \n",
       "\n",
       "       Ground   Start Date  Unnamed: 13  \n",
       "0    Kingston  20 Jun 2011  Test # 1997  \n",
       "1    Kingston  20 Jun 2011  Test # 1997  \n",
       "2  Bridgetown  28 Jun 2011  Test # 1998  \n",
       "3  Bridgetown  28 Jun 2011  Test # 1998  \n",
       "4      Roseau   6 Jul 2011  Test # 1999  "
      ]
     },
     "execution_count": 12,
     "metadata": {},
     "output_type": "execute_result"
    }
   ],
   "source": [
    "df.head()"
   ]
  },
  {
   "cell_type": "code",
   "execution_count": null,
   "id": "8bf2769d",
   "metadata": {},
   "outputs": [],
   "source": []
  }
 ],
 "metadata": {
  "kernelspec": {
   "display_name": "Python 3 (ipykernel)",
   "language": "python",
   "name": "python3"
  },
  "language_info": {
   "codemirror_mode": {
    "name": "ipython",
    "version": 3
   },
   "file_extension": ".py",
   "mimetype": "text/x-python",
   "name": "python",
   "nbconvert_exporter": "python",
   "pygments_lexer": "ipython3",
   "version": "3.11.0"
  }
 },
 "nbformat": 4,
 "nbformat_minor": 5
}
